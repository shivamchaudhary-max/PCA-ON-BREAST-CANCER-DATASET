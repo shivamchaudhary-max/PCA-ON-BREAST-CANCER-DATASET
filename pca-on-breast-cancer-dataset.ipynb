{
 "cells": [
  {
   "cell_type": "code",
   "execution_count": 1,
   "id": "05ff1aea",
   "metadata": {
    "execution": {
     "iopub.execute_input": "2022-01-19T17:18:37.351576Z",
     "iopub.status.busy": "2022-01-19T17:18:37.350995Z",
     "iopub.status.idle": "2022-01-19T17:18:38.651575Z",
     "shell.execute_reply": "2022-01-19T17:18:38.652047Z"
    },
    "id": "0tEWi2K8obc2",
    "papermill": {
     "duration": 1.317917,
     "end_time": "2022-01-19T17:18:38.652363",
     "exception": false,
     "start_time": "2022-01-19T17:18:37.334446",
     "status": "completed"
    },
    "tags": []
   },
   "outputs": [],
   "source": [
    "import pandas as pd\n",
    "import numpy as np\n",
    "from sklearn.cluster import KMeans\n",
    "import matplotlib.pyplot as plt\n",
    "\n"
   ]
  },
  {
   "cell_type": "code",
   "execution_count": 2,
   "id": "99d0c206",
   "metadata": {
    "execution": {
     "iopub.execute_input": "2022-01-19T17:18:38.674677Z",
     "iopub.status.busy": "2022-01-19T17:18:38.674055Z",
     "iopub.status.idle": "2022-01-19T17:18:38.691674Z",
     "shell.execute_reply": "2022-01-19T17:18:38.692153Z"
    },
    "id": "cj8ok10roSV-",
    "papermill": {
     "duration": 0.03045,
     "end_time": "2022-01-19T17:18:38.692337",
     "exception": false,
     "start_time": "2022-01-19T17:18:38.661887",
     "status": "completed"
    },
    "tags": []
   },
   "outputs": [],
   "source": [
    "cancer=pd.read_csv('../input/breast-cancer/breast-cancer-wisconsin.csv')"
   ]
  },
  {
   "cell_type": "code",
   "execution_count": 3,
   "id": "c8e8563c",
   "metadata": {
    "execution": {
     "iopub.execute_input": "2022-01-19T17:18:38.710193Z",
     "iopub.status.busy": "2022-01-19T17:18:38.709614Z",
     "iopub.status.idle": "2022-01-19T17:18:38.723066Z",
     "shell.execute_reply": "2022-01-19T17:18:38.722584Z"
    },
    "id": "11owWZ3BohVZ",
    "papermill": {
     "duration": 0.023736,
     "end_time": "2022-01-19T17:18:38.723200",
     "exception": false,
     "start_time": "2022-01-19T17:18:38.699464",
     "status": "completed"
    },
    "tags": []
   },
   "outputs": [
    {
     "data": {
      "text/plain": [
       "sample_code        0\n",
       "clump_thickness    0\n",
       "cell_size          0\n",
       "cell_shape         0\n",
       "marg_adhes         0\n",
       "epi_cell_size      0\n",
       "bare_nuc           0\n",
       "bland_chr          0\n",
       "normal_nuc         0\n",
       "motoses            0\n",
       "class              0\n",
       "dtype: int64"
      ]
     },
     "execution_count": 3,
     "metadata": {},
     "output_type": "execute_result"
    }
   ],
   "source": [
    "cancer.isnull().sum()"
   ]
  },
  {
   "cell_type": "code",
   "execution_count": 4,
   "id": "7691bc46",
   "metadata": {
    "execution": {
     "iopub.execute_input": "2022-01-19T17:18:38.749726Z",
     "iopub.status.busy": "2022-01-19T17:18:38.748848Z",
     "iopub.status.idle": "2022-01-19T17:18:38.752606Z",
     "shell.execute_reply": "2022-01-19T17:18:38.753511Z"
    },
    "id": "12g4Gkrvo4-v",
    "papermill": {
     "duration": 0.022741,
     "end_time": "2022-01-19T17:18:38.753748",
     "exception": false,
     "start_time": "2022-01-19T17:18:38.731007",
     "status": "completed"
    },
    "tags": []
   },
   "outputs": [
    {
     "name": "stdout",
     "output_type": "stream",
     "text": [
      "sample_code        int64\n",
      "clump_thickness    int64\n",
      "cell_size          int64\n",
      "cell_shape         int64\n",
      "marg_adhes         int64\n",
      "epi_cell_size      int64\n",
      "bland_chr          int64\n",
      "normal_nuc         int64\n",
      "motoses            int64\n",
      "dtype: object\n"
     ]
    }
   ],
   "source": [
    "bc=cancer.iloc[:,[0,1,2,3,4,5,7,8,9]]\n",
    "print(bc.dtypes)"
   ]
  },
  {
   "cell_type": "code",
   "execution_count": 5,
   "id": "38fc6845",
   "metadata": {
    "execution": {
     "iopub.execute_input": "2022-01-19T17:18:38.776106Z",
     "iopub.status.busy": "2022-01-19T17:18:38.775188Z",
     "iopub.status.idle": "2022-01-19T17:18:38.787158Z",
     "shell.execute_reply": "2022-01-19T17:18:38.786287Z"
    },
    "id": "7DxuO7f9pADF",
    "papermill": {
     "duration": 0.023898,
     "end_time": "2022-01-19T17:18:38.787384",
     "exception": false,
     "start_time": "2022-01-19T17:18:38.763486",
     "status": "completed"
    },
    "tags": []
   },
   "outputs": [
    {
     "name": "stdout",
     "output_type": "stream",
     "text": [
      "    bare_nuc  class\n",
      "0         10      2\n",
      "1          2      2\n",
      "2          4      2\n",
      "3          1      2\n",
      "4         10      4\n",
      "..       ...    ...\n",
      "693        2      2\n",
      "694        1      2\n",
      "695        3      4\n",
      "696        4      4\n",
      "697        5      4\n",
      "\n",
      "[698 rows x 2 columns]\n"
     ]
    }
   ],
   "source": [
    "bc1=cancer.iloc[:,[6,10]]\n",
    "print(bc1)"
   ]
  },
  {
   "cell_type": "code",
   "execution_count": 6,
   "id": "472da2a3",
   "metadata": {
    "execution": {
     "iopub.execute_input": "2022-01-19T17:18:38.808867Z",
     "iopub.status.busy": "2022-01-19T17:18:38.807928Z",
     "iopub.status.idle": "2022-01-19T17:18:38.837076Z",
     "shell.execute_reply": "2022-01-19T17:18:38.836085Z"
    },
    "id": "GMXtOhgCpEjz",
    "papermill": {
     "duration": 0.040666,
     "end_time": "2022-01-19T17:18:38.837348",
     "exception": false,
     "start_time": "2022-01-19T17:18:38.796682",
     "status": "completed"
    },
    "tags": []
   },
   "outputs": [],
   "source": [
    "from sklearn.decomposition import PCA\n",
    "\n",
    "pca = PCA(n_components=2)\n",
    "principalComponents = pca.fit_transform(bc)"
   ]
  },
  {
   "cell_type": "code",
   "execution_count": 7,
   "id": "11ba8fab",
   "metadata": {
    "execution": {
     "iopub.execute_input": "2022-01-19T17:18:38.879724Z",
     "iopub.status.busy": "2022-01-19T17:18:38.878620Z",
     "iopub.status.idle": "2022-01-19T17:18:38.882736Z",
     "shell.execute_reply": "2022-01-19T17:18:38.883559Z"
    },
    "id": "ozrIDJ7IsVod",
    "papermill": {
     "duration": 0.02927,
     "end_time": "2022-01-19T17:18:38.883833",
     "exception": false,
     "start_time": "2022-01-19T17:18:38.854563",
     "status": "completed"
    },
    "tags": []
   },
   "outputs": [
    {
     "data": {
      "text/plain": [
       "array([[-6.88617908e+04,  2.16293465e+00],\n",
       "       [-5.63817908e+04, -4.41025018e+00],\n",
       "       [-5.55297908e+04,  5.51057049e+00],\n",
       "       ...,\n",
       "       [-1.82986791e+05,  1.16873864e+01],\n",
       "       [-1.74335791e+05,  6.83634327e+00],\n",
       "       [-1.74335791e+05,  7.54370675e+00]])"
      ]
     },
     "execution_count": 7,
     "metadata": {},
     "output_type": "execute_result"
    }
   ],
   "source": [
    "principalComponents"
   ]
  },
  {
   "cell_type": "code",
   "execution_count": 8,
   "id": "3bc57dcf",
   "metadata": {
    "execution": {
     "iopub.execute_input": "2022-01-19T17:18:38.927033Z",
     "iopub.status.busy": "2022-01-19T17:18:38.925923Z",
     "iopub.status.idle": "2022-01-19T17:18:38.928926Z",
     "shell.execute_reply": "2022-01-19T17:18:38.929941Z"
    },
    "id": "RAI48woGsZ2z",
    "papermill": {
     "duration": 0.029507,
     "end_time": "2022-01-19T17:18:38.930217",
     "exception": false,
     "start_time": "2022-01-19T17:18:38.900710",
     "status": "completed"
    },
    "tags": []
   },
   "outputs": [],
   "source": [
    "principalDf = pd.DataFrame(data = principalComponents\n",
    "             , columns = ['principal component 1', 'principal component 2'])\n",
    "\n",
    "finalDf = pd.concat([principalDf,bc1],axis = 1)"
   ]
  },
  {
   "cell_type": "code",
   "execution_count": 9,
   "id": "95d7c71f",
   "metadata": {
    "execution": {
     "iopub.execute_input": "2022-01-19T17:18:38.962221Z",
     "iopub.status.busy": "2022-01-19T17:18:38.961610Z",
     "iopub.status.idle": "2022-01-19T17:18:38.968788Z",
     "shell.execute_reply": "2022-01-19T17:18:38.969257Z"
    },
    "id": "C08xOSwjtBzI",
    "papermill": {
     "duration": 0.026667,
     "end_time": "2022-01-19T17:18:38.969467",
     "exception": false,
     "start_time": "2022-01-19T17:18:38.942800",
     "status": "completed"
    },
    "tags": []
   },
   "outputs": [
    {
     "data": {
      "text/html": [
       "<div>\n",
       "<style scoped>\n",
       "    .dataframe tbody tr th:only-of-type {\n",
       "        vertical-align: middle;\n",
       "    }\n",
       "\n",
       "    .dataframe tbody tr th {\n",
       "        vertical-align: top;\n",
       "    }\n",
       "\n",
       "    .dataframe thead th {\n",
       "        text-align: right;\n",
       "    }\n",
       "</style>\n",
       "<table border=\"1\" class=\"dataframe\">\n",
       "  <thead>\n",
       "    <tr style=\"text-align: right;\">\n",
       "      <th></th>\n",
       "      <th>principal component 1</th>\n",
       "      <th>principal component 2</th>\n",
       "      <th>bare_nuc</th>\n",
       "      <th>class</th>\n",
       "    </tr>\n",
       "  </thead>\n",
       "  <tbody>\n",
       "    <tr>\n",
       "      <th>0</th>\n",
       "      <td>-68861.790832</td>\n",
       "      <td>2.162935</td>\n",
       "      <td>10</td>\n",
       "      <td>2</td>\n",
       "    </tr>\n",
       "    <tr>\n",
       "      <th>1</th>\n",
       "      <td>-56381.790828</td>\n",
       "      <td>-4.410250</td>\n",
       "      <td>2</td>\n",
       "      <td>2</td>\n",
       "    </tr>\n",
       "    <tr>\n",
       "      <th>2</th>\n",
       "      <td>-55529.790834</td>\n",
       "      <td>5.510570</td>\n",
       "      <td>4</td>\n",
       "      <td>2</td>\n",
       "    </tr>\n",
       "    <tr>\n",
       "      <th>3</th>\n",
       "      <td>-54783.790829</td>\n",
       "      <td>-3.356672</td>\n",
       "      <td>1</td>\n",
       "      <td>2</td>\n",
       "    </tr>\n",
       "    <tr>\n",
       "      <th>4</th>\n",
       "      <td>-54684.790839</td>\n",
       "      <td>13.529653</td>\n",
       "      <td>10</td>\n",
       "      <td>4</td>\n",
       "    </tr>\n",
       "    <tr>\n",
       "      <th>...</th>\n",
       "      <td>...</td>\n",
       "      <td>...</td>\n",
       "      <td>...</td>\n",
       "      <td>...</td>\n",
       "    </tr>\n",
       "    <tr>\n",
       "      <th>693</th>\n",
       "      <td>-295091.790828</td>\n",
       "      <td>-4.918305</td>\n",
       "      <td>2</td>\n",
       "      <td>2</td>\n",
       "    </tr>\n",
       "    <tr>\n",
       "      <th>694</th>\n",
       "      <td>-230037.790828</td>\n",
       "      <td>-5.487413</td>\n",
       "      <td>1</td>\n",
       "      <td>2</td>\n",
       "    </tr>\n",
       "    <tr>\n",
       "      <th>695</th>\n",
       "      <td>-182986.790837</td>\n",
       "      <td>11.687386</td>\n",
       "      <td>3</td>\n",
       "      <td>4</td>\n",
       "    </tr>\n",
       "    <tr>\n",
       "      <th>696</th>\n",
       "      <td>-174335.790835</td>\n",
       "      <td>6.836343</td>\n",
       "      <td>4</td>\n",
       "      <td>4</td>\n",
       "    </tr>\n",
       "    <tr>\n",
       "      <th>697</th>\n",
       "      <td>-174335.790835</td>\n",
       "      <td>7.543707</td>\n",
       "      <td>5</td>\n",
       "      <td>4</td>\n",
       "    </tr>\n",
       "  </tbody>\n",
       "</table>\n",
       "<p>698 rows × 4 columns</p>\n",
       "</div>"
      ],
      "text/plain": [
       "     principal component 1  principal component 2 bare_nuc  class\n",
       "0            -68861.790832               2.162935       10      2\n",
       "1            -56381.790828              -4.410250        2      2\n",
       "2            -55529.790834               5.510570        4      2\n",
       "3            -54783.790829              -3.356672        1      2\n",
       "4            -54684.790839              13.529653       10      4\n",
       "..                     ...                    ...      ...    ...\n",
       "693         -295091.790828              -4.918305        2      2\n",
       "694         -230037.790828              -5.487413        1      2\n",
       "695         -182986.790837              11.687386        3      4\n",
       "696         -174335.790835               6.836343        4      4\n",
       "697         -174335.790835               7.543707        5      4\n",
       "\n",
       "[698 rows x 4 columns]"
      ]
     },
     "execution_count": 9,
     "metadata": {},
     "output_type": "execute_result"
    }
   ],
   "source": [
    "finalDf"
   ]
  },
  {
   "cell_type": "code",
   "execution_count": 10,
   "id": "1a647736",
   "metadata": {
    "execution": {
     "iopub.execute_input": "2022-01-19T17:18:38.991703Z",
     "iopub.status.busy": "2022-01-19T17:18:38.991053Z",
     "iopub.status.idle": "2022-01-19T17:18:38.994958Z",
     "shell.execute_reply": "2022-01-19T17:18:38.995373Z"
    },
    "id": "djIP6a8RtNYq",
    "papermill": {
     "duration": 0.016802,
     "end_time": "2022-01-19T17:18:38.995539",
     "exception": false,
     "start_time": "2022-01-19T17:18:38.978737",
     "status": "completed"
    },
    "tags": []
   },
   "outputs": [],
   "source": [
    "x=finalDf.iloc[:,[0,1]].values"
   ]
  },
  {
   "cell_type": "code",
   "execution_count": 11,
   "id": "debcefbd",
   "metadata": {
    "execution": {
     "iopub.execute_input": "2022-01-19T17:18:39.017937Z",
     "iopub.status.busy": "2022-01-19T17:18:39.017287Z",
     "iopub.status.idle": "2022-01-19T17:18:39.257001Z",
     "shell.execute_reply": "2022-01-19T17:18:39.256092Z"
    },
    "id": "TUImbNRAtL1T",
    "papermill": {
     "duration": 0.251686,
     "end_time": "2022-01-19T17:18:39.257146",
     "exception": false,
     "start_time": "2022-01-19T17:18:39.005460",
     "status": "completed"
    },
    "tags": []
   },
   "outputs": [
    {
     "data": {
      "text/plain": [
       "<matplotlib.collections.PathCollection at 0x7f9a5a1fa290>"
      ]
     },
     "execution_count": 11,
     "metadata": {},
     "output_type": "execute_result"
    },
    {
     "data": {
      "image/png": "[encoded data removed]",
      "text/plain": [
       "<Figure size 720x504 with 1 Axes>"
      ]
     },
     "metadata": {
      "needs_background": "light"
     },
     "output_type": "display_data"
    }
   ],
   "source": [
    "#Plotting \n",
    "plt.figure(figsize=(10, 7))  \n",
    "plt.scatter(x[:,0],x[:,1], cmap='rainbow')"
   ]
  },
  {
   "cell_type": "markdown",
   "id": "312cf130",
   "metadata": {
    "id": "Lcius7aG4DLd",
    "papermill": {
     "duration": 0.010103,
     "end_time": "2022-01-19T17:18:39.277876",
     "exception": false,
     "start_time": "2022-01-19T17:18:39.267773",
     "status": "completed"
    },
    "tags": []
   },
   "source": [
    "visualizing the 2 components\n"
   ]
  }
 ],
 "metadata": {
  "kernelspec": {
   "display_name": "Python 3",
   "language": "python",
   "name": "python3"
  },
  "language_info": {
   "codemirror_mode": {
    "name": "ipython",
    "version": 3
   },
   "file_extension": ".py",
   "mimetype": "text/x-python",
   "name": "python",
   "nbconvert_exporter": "python",
   "pygments_lexer": "ipython3",
   "version": "3.7.12"
  },
  "papermill": {
   "default_parameters": {},
   "duration": 11.625424,
   "end_time": "2022-01-19T17:18:39.999493",
   "environment_variables": {},
   "exception": null,
   "input_path": "__notebook__.ipynb",
   "output_path": "__notebook__.ipynb",
   "parameters": {},
   "start_time": "2022-01-19T17:18:28.374069",
   "version": "2.3.3"
  }
 },
 "nbformat": 4,
 "nbformat_minor": 5
}
